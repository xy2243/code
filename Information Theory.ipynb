{
 "cells": [
  {
   "cell_type": "code",
   "execution_count": 1,
   "id": "bdbce0ad-c2ea-4bb8-bc56-61df06215a95",
   "metadata": {},
   "outputs": [
    {
     "name": "stdout",
     "output_type": "stream",
     "text": [
      "Entropy results (in bits):\n",
      "Fair coin: 1.000\n",
      "Fair dice: 2.585\n",
      "Biased dice: 2.161\n"
     ]
    },
    {
     "data": {
      "image/png": "[encoded data removed]",
      "text/plain": [
       "<Figure size 640x480 with 1 Axes>"
      ]
     },
     "metadata": {},
     "output_type": "display_data"
    },
    {
     "name": "stdout",
     "output_type": "stream",
     "text": [
      "\n",
      "Mutual Information between features and target:\n",
      "  Feature  Mutual Information\n",
      "3      X3            0.391607\n",
      "1      X1            0.022410\n",
      "0      X0            0.009329\n",
      "4      X4            0.009181\n",
      "2      X2            0.000000\n"
     ]
    }
   ],
   "source": [
    "# Information Theory Demo: Entropy & Mutual Information\n",
    "# Author: Xiaowen\n",
    "# Description: Compute entropy with scipy, mutual information with sklearn,\n",
    "# and visualize entropy of different probability distributions.\n",
    "\n",
    "import numpy as np\n",
    "from scipy.stats import entropy\n",
    "from sklearn.feature_selection import mutual_info_classif\n",
    "from sklearn.datasets import make_classification\n",
    "import pandas as pd\n",
    "import matplotlib.pyplot as plt\n",
    "\n",
    "# 1. Entropy Calculation\n",
    "# Define some probability distributions\n",
    "p_coin = [0.5, 0.5]        # fair coin\n",
    "p_dice = [1/6]*6           # fair dice\n",
    "p_biased_dice = [0.5, 0.1, 0.1, 0.1, 0.1, 0.1]  # biased dice\n",
    "\n",
    "# Compute entropy (base 2, unit = bits)\n",
    "entropy_values = {\n",
    "    \"Fair coin\": entropy(p_coin, base=2),\n",
    "    \"Fair dice\": entropy(p_dice, base=2),\n",
    "    \"Biased dice\": entropy(p_biased_dice, base=2)\n",
    "}\n",
    "\n",
    "print(\"Entropy results (in bits):\")\n",
    "for k, v in entropy_values.items():\n",
    "    print(f\"{k}: {v:.3f}\")\n",
    "\n",
    "# Visualization\n",
    "plt.bar(entropy_values.keys(), entropy_values.values(), color=[\"skyblue\", \"orange\", \"green\"])\n",
    "plt.ylabel(\"Entropy (bits)\")\n",
    "plt.title(\"Entropy of Different Distributions\")\n",
    "plt.show()\n",
    "\n",
    "\n",
    "# 2. Mutual Information\n",
    "# ======================\n",
    "# Generate a synthetic classification dataset\n",
    "X, y = make_classification(\n",
    "    n_samples=500, n_features=5, n_informative=2, \n",
    "    n_redundant=0, random_state=42\n",
    ")\n",
    "\n",
    "# Compute mutual information between each feature and the target\n",
    "mi = mutual_info_classif(X, y, random_state=42)\n",
    "\n",
    "# Display results in a table\n",
    "df = pd.DataFrame({\n",
    "    \"Feature\": [f\"X{i}\" for i in range(X.shape[1])],\n",
    "    \"Mutual Information\": mi\n",
    "})\n",
    "print(\"\\nMutual Information between features and target:\")\n",
    "print(df.sort_values(\"Mutual Information\", ascending=False))\n"
   ]
  },
  {
   "cell_type": "code",
   "execution_count": null,
   "id": "0f18fed7-acb6-40b0-bd4c-4e325cdddcc5",
   "metadata": {},
   "outputs": [],
   "source": []
  }
 ],
 "metadata": {
  "kernelspec": {
   "display_name": "Python 3 (ipykernel)",
   "language": "python",
   "name": "python3"
  },
  "language_info": {
   "codemirror_mode": {
    "name": "ipython",
    "version": 3
   },
   "file_extension": ".py",
   "mimetype": "text/x-python",
   "name": "python",
   "nbconvert_exporter": "python",
   "pygments_lexer": "ipython3",
   "version": "3.12.4"
  }
 },
 "nbformat": 4,
 "nbformat_minor": 5
}
